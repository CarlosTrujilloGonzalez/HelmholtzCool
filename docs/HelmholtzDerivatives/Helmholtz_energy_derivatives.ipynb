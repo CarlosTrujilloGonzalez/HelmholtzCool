{
 "metadata": {
  "name": "",
  "signature": "sha256:47fb03eba9deb72b6aa92331eccdb40e76cfde77372361a3a08986da45f9d266"
 },
 "nbformat": 3,
 "nbformat_minor": 0,
 "worksheets": [
  {
   "cells": [
    {
     "cell_type": "code",
     "collapsed": false,
     "input": [
      "from sympy import *\n",
      "\n",
      "# symbolic variables for Helmholtz energy\n",
      "fi, fr, delta, tau = symbols(\"fi fr delta tau\")\n",
      "\n",
      "# symbolic variables for parameters in bank of terms\n",
      "li1, li2, ei1, ei2, ci1, ci2, si1, si2 = symbols(\"li1 li2 ei1 ei2 ci1 ci2 si1 si2\")\n",
      "pi1, pi2, pi3 = symbols(\"pi1 pi2 pi3\")\n",
      "bi1, bi2, bi3, bi4 = symbols(\"bi1 bi2 bi3 bi4\")\n",
      "gi1, gi2, gi3, gi4, gi5, gi6, gi7, gi8, gi9 = symbols(\"gi1 gi2 gi3 gi4 gi5 gi6 gi7 gi8 gi9\")\n",
      "ni1, ni2, ni3, ni4, ni5, ni6, ni7, ni8, ni9, ni10, ni11, ni12 = symbols(\"ni1 ni2 ni3 ni4 ni5 ni6 ni7 ni8 ni9 ni10 ni11 ni12\")\n",
      "Distance, Phi = symbols(\"Distance Phi\")\n",
      "\n",
      "# terms for ideal Helmholtz energy\n",
      "logTerms = + li1*log(tau**li2);\n",
      "idealPolyTerms = + pi1*tau**pi2;\n",
      "EinsteinTerms = + ei1*log(1 - exp(ei2*tau));\n",
      "coshTerms = - ci1*log((cosh(ci2*tau)));\n",
      "sinhTerms = + si1*log((sinh(si2*tau)));\n",
      "\n",
      "# terms for residual Helmholtz energy\n",
      "residualPolyTerms = pi1*tau**pi2*delta**pi3;\n",
      "BWRTerms = bi1*tau**bi2*delta**bi3*exp(-delta**bi4);\n",
      "GaussTerms = gi1*tau**gi2*delta**gi3*exp(gi6*(delta-gi9)**2 + gi7*(tau-gi8)**2);\n",
      "Distance = ((1-tau)+ni8*((delta-1)**2)**(1/(2*ni7)))**2 + ni11*((delta-1)**2)**ni12\n",
      "Phi = exp(-ni9*(delta-1)**2-ni10*(tau-1)**2)\n",
      "nonAnalyticalTerms = ni1*delta*Distance**ni6*Phi;"
     ],
     "language": "python",
     "metadata": {},
     "outputs": [],
     "prompt_number": 31
    },
    {
     "cell_type": "code",
     "collapsed": false,
     "input": [
      "## Helmholtz energy\n",
      "# fi = +log(delta) +logTerms +idealPolyTerms +EinsteinTerms +coshTerms +sinhTerms\n",
      "fi = logTerms + coshTerms + sinhTerms\n",
      "# fr = +residualPolyTerms +BWRTerms +GaussTerms +nonAnalyticalTerms\n",
      "fr = residualPolyTerms\n",
      "\n",
      "## First derivs\n",
      "fit = simplify(diff(fi,tau))\n",
      "frt = simplify(diff(fr,tau))\n",
      "frd = simplify(diff(fr,delta))\n",
      "\n",
      "## Second derivs\n",
      "fitt = simplify(diff(fit,tau))\n",
      "frtt = simplify(diff(frt,tau))\n",
      "frtd = simplify(diff(frt,delta))\n",
      "frdd = simplify(diff(frd,delta))\n",
      "\n",
      "## Third derivs\n",
      "fittt = simplify(diff(fitt,tau))\n",
      "frttt = simplify(diff(frtt,tau))\n",
      "frttd = simplify(diff(frtd,tau))\n",
      "frtdd = simplify(diff(frtd,delta))\n",
      "frddd = simplify(diff(frdd,delta))"
     ],
     "language": "python",
     "metadata": {},
     "outputs": [],
     "prompt_number": 32
    },
    {
     "cell_type": "code",
     "collapsed": false,
     "input": [
      "## Helmholtz energy\n",
      "print(fi)\n",
      "print(fr)\n",
      "print()\n",
      "\n",
      "## First derivs\n",
      "print(fit)\n",
      "print(frt)\n",
      "print(frd)\n",
      "print()\n",
      "\n",
      "## Second derivs\n",
      "print(fitt)\n",
      "print(frtt)\n",
      "print(frtd)\n",
      "print(frdd)\n",
      "print()\n",
      "\n",
      "## Third derivs\n",
      "print(fittt)\n",
      "print(frttt)\n",
      "print(frttd)\n",
      "print(frtdd)\n",
      "print(frddd)"
     ],
     "language": "python",
     "metadata": {},
     "outputs": [
      {
       "output_type": "stream",
       "stream": "stdout",
       "text": [
        "-ci1*log(cosh(ci2*tau)) + li1*log(tau**li2) + si1*log(sinh(si2*tau))\n",
        "delta**pi3*pi1*tau**pi2\n",
        "\n",
        "-ci1*ci2*tanh(ci2*tau) + li1*li2/tau + si1*si2/tanh(si2*tau)\n",
        "delta**pi3*pi1*pi2*tau**(pi2 - 1)\n",
        "delta**(pi3 - 1)*pi1*pi3*tau**pi2\n",
        "\n",
        "-ci1*ci2**2/cosh(ci2*tau)**2 - li1*li2/tau**2 - si1*si2**2/sinh(si2*tau)**2\n",
        "delta**pi3*pi1*pi2*tau**(pi2 - 2)*(pi2 - 1)\n",
        "delta**(pi3 - 1)*pi1*pi2*pi3*tau**(pi2 - 1)\n",
        "delta**(pi3 - 2)*pi1*pi3*tau**pi2*(pi3 - 1)\n",
        "\n",
        "2*ci1*ci2**3*sinh(ci2*tau)/cosh(ci2*tau)**3 + 2*li1*li2/tau**3 + 2*si1*si2**3*cosh(si2*tau)/sinh(si2*tau)**3\n",
        "delta**pi3*pi1*pi2*tau**(pi2 - 3)*(pi2 - 2)*(pi2 - 1)\n",
        "delta**(pi3 - 1)*pi1*pi2*pi3*tau**(pi2 - 2)*(pi2 - 1)\n",
        "delta**(pi3 - 2)*pi1*pi2*pi3*tau**(pi2 - 1)*(pi3 - 1)\n",
        "delta**(pi3 - 3)*pi1*pi3*tau**pi2*(pi3 - 2)*(pi3 - 1)\n"
       ]
      }
     ],
     "prompt_number": 33
    }
   ],
   "metadata": {}
  }
 ]
}